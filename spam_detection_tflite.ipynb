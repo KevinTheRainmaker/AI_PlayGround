{
  "nbformat": 4,
  "nbformat_minor": 0,
  "metadata": {
    "colab": {
      "name": "spam_detection_tflite.ipynb",
      "provenance": [],
      "collapsed_sections": [],
      "authorship_tag": "ABX9TyOJaJp1E3z/fEXRrNbrh0Q6",
      "include_colab_link": true
    },
    "kernelspec": {
      "name": "python3",
      "display_name": "Python 3"
    },
    "language_info": {
      "name": "python"
    }
  },
  "cells": [
    {
      "cell_type": "markdown",
      "metadata": {
        "id": "view-in-github",
        "colab_type": "text"
      },
      "source": [
        "<a href=\"https://colab.research.google.com/github/KevinTheRainmaker/AI_Tutorials/blob/main/spam_detection_tflite.ipynb\" target=\"_parent\"><img src=\"https://colab.research.google.com/assets/colab-badge.svg\" alt=\"Open In Colab\"/></a>"
      ]
    },
    {
      "cell_type": "markdown",
      "source": [
        "### 1. TFLite Model Maker 설치"
      ],
      "metadata": {
        "id": "BJa-JUVwLPMT"
      }
    },
    {
      "cell_type": "code",
      "execution_count": 1,
      "metadata": {
        "colab": {
          "base_uri": "https://localhost:8080/"
        },
        "id": "dVwBRuanK93B",
        "outputId": "841ccb8f-7766-44cb-bb28-604b61af64d2"
      },
      "outputs": [
        {
          "output_type": "stream",
          "name": "stdout",
          "text": [
            "\u001b[K     |████████████████████████████████| 616 kB 5.0 MB/s \n",
            "\u001b[K     |████████████████████████████████| 77 kB 5.5 MB/s \n",
            "\u001b[K     |████████████████████████████████| 237 kB 67.2 MB/s \n",
            "\u001b[K     |████████████████████████████████| 3.4 MB 53.7 MB/s \n",
            "\u001b[K     |████████████████████████████████| 596 kB 63.9 MB/s \n",
            "\u001b[K     |████████████████████████████████| 1.2 MB 53.5 MB/s \n",
            "\u001b[K     |████████████████████████████████| 6.4 MB 28.4 MB/s \n",
            "\u001b[K     |████████████████████████████████| 87 kB 6.0 MB/s \n",
            "\u001b[K     |████████████████████████████████| 120 kB 57.7 MB/s \n",
            "\u001b[K     |████████████████████████████████| 1.1 MB 59.8 MB/s \n",
            "\u001b[K     |████████████████████████████████| 1.1 MB 54.2 MB/s \n",
            "\u001b[K     |████████████████████████████████| 840 kB 12.7 MB/s \n",
            "\u001b[K     |████████████████████████████████| 25.3 MB 3.3 MB/s \n",
            "\u001b[K     |████████████████████████████████| 99 kB 8.2 MB/s \n",
            "\u001b[K     |████████████████████████████████| 352 kB 56.9 MB/s \n",
            "\u001b[K     |████████████████████████████████| 47.8 MB 45 kB/s \n",
            "\u001b[K     |████████████████████████████████| 462 kB 52.6 MB/s \n",
            "\u001b[K     |████████████████████████████████| 213 kB 62.3 MB/s \n",
            "\u001b[?25h  Building wheel for fire (setup.py) ... \u001b[?25l\u001b[?25hdone\n",
            "  Building wheel for py-cpuinfo (setup.py) ... \u001b[?25l\u001b[?25hdone\n"
          ]
        }
      ],
      "source": [
        "!pip install -q tflite-model-maker"
      ]
    },
    {
      "cell_type": "markdown",
      "source": [
        "### 2. 필요 라이브러리 Import"
      ],
      "metadata": {
        "id": "uXUtAAIwLT_1"
      }
    },
    {
      "cell_type": "code",
      "source": [
        "# mount gdrive\n",
        "from google.colab import drive\n",
        "drive.mount('/content/drive', force_remount=True)\n",
        "\n",
        "path = '/content/drive/MyDrive/'"
      ],
      "metadata": {
        "colab": {
          "base_uri": "https://localhost:8080/"
        },
        "id": "BIqbOGHJNT24",
        "outputId": "2174f50e-8b12-494c-9ffd-7b8685da408d"
      },
      "execution_count": 14,
      "outputs": [
        {
          "output_type": "stream",
          "name": "stdout",
          "text": [
            "Mounted at /content/drive\n"
          ]
        }
      ]
    },
    {
      "cell_type": "code",
      "source": [
        "import pandas as pd\n",
        "import numpy as np\n",
        "import os\n",
        "from tflite_model_maker import configs\n",
        "from tflite_model_maker import ExportFormat\n",
        "from tflite_model_maker import model_spec\n",
        "from tflite_model_maker import text_classifier\n",
        "from tflite_model_maker.text_classifier import DataLoader\n",
        "\n",
        "import tensorflow as tf\n",
        "assert tf.__version__.startswith('2')\n",
        "tf.get_logger().setLevel('ERROR')"
      ],
      "metadata": {
        "id": "5VLok1q7LIJB"
      },
      "execution_count": 7,
      "outputs": []
    },
    {
      "cell_type": "markdown",
      "source": [
        "### 3. 데이터 불러오기 from Cloud"
      ],
      "metadata": {
        "id": "2L7JBHpILcsF"
      }
    },
    {
      "cell_type": "code",
      "source": [
        "data_file = tf.keras.utils.get_file(fname='comment-spam.csv',\n",
        "  origin='https://storage.googleapis.com/laurencemoroney-blog.appspot.com/lmblog_comments.csv',\n",
        "  extract=False)"
      ],
      "metadata": {
        "colab": {
          "base_uri": "https://localhost:8080/"
        },
        "id": "SX_LlXLNLZgM",
        "outputId": "f4c7029e-535d-4682-cbb6-a696190bec8d"
      },
      "execution_count": 3,
      "outputs": [
        {
          "output_type": "stream",
          "name": "stdout",
          "text": [
            "Downloading data from https://storage.googleapis.com/laurencemoroney-blog.appspot.com/lmblog_comments.csv\n",
            "237568/235543 [==============================] - 0s 0us/step\n",
            "245760/235543 [===============================] - 0s 0us/step\n"
          ]
        }
      ]
    },
    {
      "cell_type": "code",
      "source": [
        "pd.read_csv(data_file)"
      ],
      "metadata": {
        "colab": {
          "base_uri": "https://localhost:8080/",
          "height": 332
        },
        "id": "pRiOrdHYLhJR",
        "outputId": "a522a2ab-ee40-4cc6-d1bd-9cf8bfb911ff"
      },
      "execution_count": 8,
      "outputs": [
        {
          "output_type": "execute_result",
          "data": {
            "text/plain": [
              "                                           commenttext   spam\n",
              "0                                 still need pick one   False\n",
              "1    … i similar problem  careful version cuda  ver...   True\n",
              "2                           visual range five seconds   False\n",
              "3                         family come trusted tonight   False\n",
              "4                                                cute   False\n",
              "..                                                 ...    ...\n",
              "995  these principles addition served easy way comp...   True\n",
              "996  not come just show around help get know place ...  False\n",
              "997                                     sure get used   False\n",
              "998                                            friend   False\n",
              "999         yes keeping eye going around really going   False\n",
              "\n",
              "[1000 rows x 2 columns]"
            ],
            "text/html": [
              "\n",
              "  <div id=\"df-93036def-0bad-40c0-9985-6b03e807b158\">\n",
              "    <div class=\"colab-df-container\">\n",
              "      <div>\n",
              "<style scoped>\n",
              "    .dataframe tbody tr th:only-of-type {\n",
              "        vertical-align: middle;\n",
              "    }\n",
              "\n",
              "    .dataframe tbody tr th {\n",
              "        vertical-align: top;\n",
              "    }\n",
              "\n",
              "    .dataframe thead th {\n",
              "        text-align: right;\n",
              "    }\n",
              "</style>\n",
              "<table border=\"1\" class=\"dataframe\">\n",
              "  <thead>\n",
              "    <tr style=\"text-align: right;\">\n",
              "      <th></th>\n",
              "      <th>commenttext</th>\n",
              "      <th>spam</th>\n",
              "    </tr>\n",
              "  </thead>\n",
              "  <tbody>\n",
              "    <tr>\n",
              "      <th>0</th>\n",
              "      <td>still need pick one</td>\n",
              "      <td>False</td>\n",
              "    </tr>\n",
              "    <tr>\n",
              "      <th>1</th>\n",
              "      <td>… i similar problem  careful version cuda  ver...</td>\n",
              "      <td>True</td>\n",
              "    </tr>\n",
              "    <tr>\n",
              "      <th>2</th>\n",
              "      <td>visual range five seconds</td>\n",
              "      <td>False</td>\n",
              "    </tr>\n",
              "    <tr>\n",
              "      <th>3</th>\n",
              "      <td>family come trusted tonight</td>\n",
              "      <td>False</td>\n",
              "    </tr>\n",
              "    <tr>\n",
              "      <th>4</th>\n",
              "      <td>cute</td>\n",
              "      <td>False</td>\n",
              "    </tr>\n",
              "    <tr>\n",
              "      <th>...</th>\n",
              "      <td>...</td>\n",
              "      <td>...</td>\n",
              "    </tr>\n",
              "    <tr>\n",
              "      <th>995</th>\n",
              "      <td>these principles addition served easy way comp...</td>\n",
              "      <td>True</td>\n",
              "    </tr>\n",
              "    <tr>\n",
              "      <th>996</th>\n",
              "      <td>not come just show around help get know place ...</td>\n",
              "      <td>False</td>\n",
              "    </tr>\n",
              "    <tr>\n",
              "      <th>997</th>\n",
              "      <td>sure get used</td>\n",
              "      <td>False</td>\n",
              "    </tr>\n",
              "    <tr>\n",
              "      <th>998</th>\n",
              "      <td>friend</td>\n",
              "      <td>False</td>\n",
              "    </tr>\n",
              "    <tr>\n",
              "      <th>999</th>\n",
              "      <td>yes keeping eye going around really going</td>\n",
              "      <td>False</td>\n",
              "    </tr>\n",
              "  </tbody>\n",
              "</table>\n",
              "<p>1000 rows × 2 columns</p>\n",
              "</div>\n",
              "      <button class=\"colab-df-convert\" onclick=\"convertToInteractive('df-93036def-0bad-40c0-9985-6b03e807b158')\"\n",
              "              title=\"Convert this dataframe to an interactive table.\"\n",
              "              style=\"display:none;\">\n",
              "        \n",
              "  <svg xmlns=\"http://www.w3.org/2000/svg\" height=\"24px\"viewBox=\"0 0 24 24\"\n",
              "       width=\"24px\">\n",
              "    <path d=\"M0 0h24v24H0V0z\" fill=\"none\"/>\n",
              "    <path d=\"M18.56 5.44l.94 2.06.94-2.06 2.06-.94-2.06-.94-.94-2.06-.94 2.06-2.06.94zm-11 1L8.5 8.5l.94-2.06 2.06-.94-2.06-.94L8.5 2.5l-.94 2.06-2.06.94zm10 10l.94 2.06.94-2.06 2.06-.94-2.06-.94-.94-2.06-.94 2.06-2.06.94z\"/><path d=\"M17.41 7.96l-1.37-1.37c-.4-.4-.92-.59-1.43-.59-.52 0-1.04.2-1.43.59L10.3 9.45l-7.72 7.72c-.78.78-.78 2.05 0 2.83L4 21.41c.39.39.9.59 1.41.59.51 0 1.02-.2 1.41-.59l7.78-7.78 2.81-2.81c.8-.78.8-2.07 0-2.86zM5.41 20L4 18.59l7.72-7.72 1.47 1.35L5.41 20z\"/>\n",
              "  </svg>\n",
              "      </button>\n",
              "      \n",
              "  <style>\n",
              "    .colab-df-container {\n",
              "      display:flex;\n",
              "      flex-wrap:wrap;\n",
              "      gap: 12px;\n",
              "    }\n",
              "\n",
              "    .colab-df-convert {\n",
              "      background-color: #E8F0FE;\n",
              "      border: none;\n",
              "      border-radius: 50%;\n",
              "      cursor: pointer;\n",
              "      display: none;\n",
              "      fill: #1967D2;\n",
              "      height: 32px;\n",
              "      padding: 0 0 0 0;\n",
              "      width: 32px;\n",
              "    }\n",
              "\n",
              "    .colab-df-convert:hover {\n",
              "      background-color: #E2EBFA;\n",
              "      box-shadow: 0px 1px 2px rgba(60, 64, 67, 0.3), 0px 1px 3px 1px rgba(60, 64, 67, 0.15);\n",
              "      fill: #174EA6;\n",
              "    }\n",
              "\n",
              "    [theme=dark] .colab-df-convert {\n",
              "      background-color: #3B4455;\n",
              "      fill: #D2E3FC;\n",
              "    }\n",
              "\n",
              "    [theme=dark] .colab-df-convert:hover {\n",
              "      background-color: #434B5C;\n",
              "      box-shadow: 0px 1px 3px 1px rgba(0, 0, 0, 0.15);\n",
              "      filter: drop-shadow(0px 1px 2px rgba(0, 0, 0, 0.3));\n",
              "      fill: #FFFFFF;\n",
              "    }\n",
              "  </style>\n",
              "\n",
              "      <script>\n",
              "        const buttonEl =\n",
              "          document.querySelector('#df-93036def-0bad-40c0-9985-6b03e807b158 button.colab-df-convert');\n",
              "        buttonEl.style.display =\n",
              "          google.colab.kernel.accessAllowed ? 'block' : 'none';\n",
              "\n",
              "        async function convertToInteractive(key) {\n",
              "          const element = document.querySelector('#df-93036def-0bad-40c0-9985-6b03e807b158');\n",
              "          const dataTable =\n",
              "            await google.colab.kernel.invokeFunction('convertToInteractive',\n",
              "                                                     [key], {});\n",
              "          if (!dataTable) return;\n",
              "\n",
              "          const docLinkHtml = 'Like what you see? Visit the ' +\n",
              "            '<a target=\"_blank\" href=https://colab.research.google.com/notebooks/data_table.ipynb>data table notebook</a>'\n",
              "            + ' to learn more about interactive tables.';\n",
              "          element.innerHTML = '';\n",
              "          dataTable['output_type'] = 'display_data';\n",
              "          await google.colab.output.renderOutput(dataTable, element);\n",
              "          const docLink = document.createElement('div');\n",
              "          docLink.innerHTML = docLinkHtml;\n",
              "          element.appendChild(docLink);\n",
              "        }\n",
              "      </script>\n",
              "    </div>\n",
              "  </div>\n",
              "  "
            ]
          },
          "metadata": {},
          "execution_count": 8
        }
      ]
    },
    {
      "cell_type": "markdown",
      "source": [
        "### 4. Pre-Trained 된 Embeddings"
      ],
      "metadata": {
        "id": "mOBbVzMEMS0a"
      }
    },
    {
      "cell_type": "code",
      "source": [
        "spec = model_spec.get('average_word_vec')\n",
        "spec.num_words = 2000\n",
        "spec.seq_len = 20\n",
        "spec.wordvec_dim = 7"
      ],
      "metadata": {
        "id": "StD5QVW2LjIV"
      },
      "execution_count": 9,
      "outputs": []
    },
    {
      "cell_type": "markdown",
      "source": [
        "### 5. 데이터 로더 사용"
      ],
      "metadata": {
        "id": "hTj_iKHoMxux"
      }
    },
    {
      "cell_type": "code",
      "source": [
        "data = DataLoader.from_csv(\n",
        "    filename=data_file,\n",
        "    text_column='commenttext',\n",
        "    label_column='spam',\n",
        "    model_spec=spec,\n",
        "    delimiter=',',\n",
        "    shuffle=True,\n",
        "    is_training=True)\n",
        "\n",
        "train_data, test_data = data.split(0.9)"
      ],
      "metadata": {
        "id": "Y5W8-P1WMpD8"
      },
      "execution_count": 10,
      "outputs": []
    },
    {
      "cell_type": "markdown",
      "source": [
        "### 6. 모델 빌드"
      ],
      "metadata": {
        "id": "2q1Q5lgUM775"
      }
    },
    {
      "cell_type": "code",
      "source": [
        "model = text_classifier.create(train_data, model_spec=spec, epochs=50,\n",
        "                               validation_data=test_data)"
      ],
      "metadata": {
        "colab": {
          "base_uri": "https://localhost:8080/"
        },
        "id": "84wM_Hj0M3iH",
        "outputId": "6f9f81d6-74b2-483c-957c-f7d9c7d01703"
      },
      "execution_count": 12,
      "outputs": [
        {
          "output_type": "stream",
          "name": "stdout",
          "text": [
            "28/28 [==============================] - 2s 19ms/step - loss: 0.6543 - accuracy: 0.6964 - val_loss: 0.6145 - val_accuracy: 0.7900\n",
            "Epoch 2/2\n",
            "28/28 [==============================] - 0s 9ms/step - loss: 0.5946 - accuracy: 0.8002 - val_loss: 0.5472 - val_accuracy: 0.9300\n",
            "Epoch 3/3\n",
            "28/28 [==============================] - 0s 11ms/step - loss: 0.5334 - accuracy: 0.8772 - val_loss: 0.4764 - val_accuracy: 0.9600\n",
            "Epoch 4/4\n",
            "28/28 [==============================] - 0s 10ms/step - loss: 0.4674 - accuracy: 0.9040 - val_loss: 0.4064 - val_accuracy: 0.9900\n",
            "Epoch 5/5\n",
            "28/28 [==============================] - 0s 11ms/step - loss: 0.4077 - accuracy: 0.9330 - val_loss: 0.3413 - val_accuracy: 0.9900\n",
            "Epoch 6/6\n",
            "28/28 [==============================] - 0s 9ms/step - loss: 0.3512 - accuracy: 0.9342 - val_loss: 0.2842 - val_accuracy: 0.9800\n",
            "Epoch 7/7\n",
            "28/28 [==============================] - 0s 8ms/step - loss: 0.3137 - accuracy: 0.9286 - val_loss: 0.2352 - val_accuracy: 0.9800\n",
            "Epoch 8/8\n",
            "28/28 [==============================] - 0s 11ms/step - loss: 0.2754 - accuracy: 0.9330 - val_loss: 0.1964 - val_accuracy: 0.9800\n",
            "Epoch 9/9\n",
            "28/28 [==============================] - 0s 11ms/step - loss: 0.2390 - accuracy: 0.9408 - val_loss: 0.1655 - val_accuracy: 0.9800\n",
            "Epoch 10/10\n",
            "28/28 [==============================] - 0s 11ms/step - loss: 0.2105 - accuracy: 0.9509 - val_loss: 0.1417 - val_accuracy: 0.9800\n",
            "Epoch 11/11\n",
            "28/28 [==============================] - 0s 11ms/step - loss: 0.1978 - accuracy: 0.9442 - val_loss: 0.1260 - val_accuracy: 0.9800\n",
            "Epoch 12/12\n",
            "28/28 [==============================] - 0s 8ms/step - loss: 0.1819 - accuracy: 0.9386 - val_loss: 0.1145 - val_accuracy: 0.9800\n",
            "Epoch 13/13\n",
            "28/28 [==============================] - 0s 8ms/step - loss: 0.1686 - accuracy: 0.9498 - val_loss: 0.1064 - val_accuracy: 0.9900\n",
            "Epoch 14/14\n",
            "28/28 [==============================] - 0s 8ms/step - loss: 0.1701 - accuracy: 0.9509 - val_loss: 0.0994 - val_accuracy: 0.9900\n",
            "Epoch 15/15\n",
            "28/28 [==============================] - 0s 7ms/step - loss: 0.1529 - accuracy: 0.9509 - val_loss: 0.0941 - val_accuracy: 0.9900\n",
            "Epoch 16/16\n",
            "28/28 [==============================] - 0s 7ms/step - loss: 0.1469 - accuracy: 0.9531 - val_loss: 0.0899 - val_accuracy: 0.9900\n",
            "Epoch 17/17\n",
            "28/28 [==============================] - 0s 7ms/step - loss: 0.1461 - accuracy: 0.9565 - val_loss: 0.0860 - val_accuracy: 0.9900\n",
            "Epoch 18/18\n",
            "28/28 [==============================] - 0s 8ms/step - loss: 0.1322 - accuracy: 0.9632 - val_loss: 0.0825 - val_accuracy: 0.9900\n",
            "Epoch 19/19\n",
            "28/28 [==============================] - 0s 7ms/step - loss: 0.1309 - accuracy: 0.9665 - val_loss: 0.0794 - val_accuracy: 0.9900\n",
            "Epoch 20/20\n",
            "28/28 [==============================] - 0s 11ms/step - loss: 0.1247 - accuracy: 0.9621 - val_loss: 0.0766 - val_accuracy: 0.9900\n",
            "Epoch 21/21\n",
            "28/28 [==============================] - 0s 8ms/step - loss: 0.1127 - accuracy: 0.9654 - val_loss: 0.0742 - val_accuracy: 0.9900\n",
            "Epoch 22/22\n",
            "28/28 [==============================] - 0s 11ms/step - loss: 0.1213 - accuracy: 0.9632 - val_loss: 0.0709 - val_accuracy: 0.9900\n",
            "Epoch 23/23\n",
            "28/28 [==============================] - 0s 8ms/step - loss: 0.1043 - accuracy: 0.9654 - val_loss: 0.0683 - val_accuracy: 0.9900\n",
            "Epoch 24/24\n",
            "28/28 [==============================] - 0s 11ms/step - loss: 0.1040 - accuracy: 0.9699 - val_loss: 0.0660 - val_accuracy: 0.9900\n",
            "Epoch 25/25\n",
            "28/28 [==============================] - 0s 8ms/step - loss: 0.0976 - accuracy: 0.9699 - val_loss: 0.0636 - val_accuracy: 0.9900\n",
            "Epoch 26/26\n",
            "28/28 [==============================] - 0s 7ms/step - loss: 0.0940 - accuracy: 0.9699 - val_loss: 0.0607 - val_accuracy: 0.9900\n",
            "Epoch 27/27\n",
            "28/28 [==============================] - 0s 9ms/step - loss: 0.0986 - accuracy: 0.9710 - val_loss: 0.0588 - val_accuracy: 0.9900\n",
            "Epoch 28/28\n",
            "28/28 [==============================] - 0s 9ms/step - loss: 0.0958 - accuracy: 0.9710 - val_loss: 0.0558 - val_accuracy: 0.9900\n",
            "Epoch 29/29\n",
            "28/28 [==============================] - 0s 8ms/step - loss: 0.0841 - accuracy: 0.9754 - val_loss: 0.0538 - val_accuracy: 0.9900\n",
            "Epoch 30/30\n",
            "28/28 [==============================] - 0s 8ms/step - loss: 0.0822 - accuracy: 0.9754 - val_loss: 0.0515 - val_accuracy: 0.9900\n",
            "Epoch 31/31\n",
            "28/28 [==============================] - 0s 9ms/step - loss: 0.0761 - accuracy: 0.9810 - val_loss: 0.0495 - val_accuracy: 0.9900\n",
            "Epoch 32/32\n",
            "28/28 [==============================] - 0s 11ms/step - loss: 0.0771 - accuracy: 0.9799 - val_loss: 0.0476 - val_accuracy: 0.9900\n",
            "Epoch 33/33\n",
            "28/28 [==============================] - 0s 8ms/step - loss: 0.0689 - accuracy: 0.9810 - val_loss: 0.0453 - val_accuracy: 0.9900\n",
            "Epoch 34/34\n",
            "28/28 [==============================] - 0s 7ms/step - loss: 0.0717 - accuracy: 0.9810 - val_loss: 0.0437 - val_accuracy: 0.9900\n",
            "Epoch 35/35\n",
            "28/28 [==============================] - 0s 7ms/step - loss: 0.0604 - accuracy: 0.9844 - val_loss: 0.0418 - val_accuracy: 0.9900\n",
            "Epoch 36/36\n",
            "28/28 [==============================] - 0s 15ms/step - loss: 0.0632 - accuracy: 0.9833 - val_loss: 0.0406 - val_accuracy: 0.9900\n",
            "Epoch 37/37\n",
            "28/28 [==============================] - 0s 10ms/step - loss: 0.0603 - accuracy: 0.9833 - val_loss: 0.0392 - val_accuracy: 0.9900\n",
            "Epoch 38/38\n",
            "28/28 [==============================] - 0s 7ms/step - loss: 0.0616 - accuracy: 0.9799 - val_loss: 0.0375 - val_accuracy: 0.9900\n",
            "Epoch 39/39\n",
            "28/28 [==============================] - 0s 11ms/step - loss: 0.0544 - accuracy: 0.9866 - val_loss: 0.0362 - val_accuracy: 0.9900\n",
            "Epoch 40/40\n",
            "28/28 [==============================] - 0s 8ms/step - loss: 0.0492 - accuracy: 0.9900 - val_loss: 0.0343 - val_accuracy: 0.9900\n",
            "Epoch 41/41\n",
            "28/28 [==============================] - 0s 7ms/step - loss: 0.0501 - accuracy: 0.9833 - val_loss: 0.0340 - val_accuracy: 0.9900\n",
            "Epoch 42/42\n",
            "28/28 [==============================] - 0s 7ms/step - loss: 0.0516 - accuracy: 0.9821 - val_loss: 0.0342 - val_accuracy: 0.9900\n",
            "Epoch 43/43\n",
            "28/28 [==============================] - 0s 7ms/step - loss: 0.0547 - accuracy: 0.9855 - val_loss: 0.0307 - val_accuracy: 0.9900\n",
            "Epoch 44/44\n",
            "28/28 [==============================] - 0s 7ms/step - loss: 0.0554 - accuracy: 0.9799 - val_loss: 0.0316 - val_accuracy: 0.9900\n",
            "Epoch 45/45\n",
            "28/28 [==============================] - 0s 7ms/step - loss: 0.0450 - accuracy: 0.9877 - val_loss: 0.0302 - val_accuracy: 0.9900\n",
            "Epoch 46/46\n",
            "28/28 [==============================] - 0s 7ms/step - loss: 0.0325 - accuracy: 0.9933 - val_loss: 0.0305 - val_accuracy: 0.9800\n",
            "Epoch 47/47\n",
            "28/28 [==============================] - 0s 8ms/step - loss: 0.0396 - accuracy: 0.9888 - val_loss: 0.0286 - val_accuracy: 0.9800\n",
            "Epoch 48/48\n",
            "28/28 [==============================] - 0s 11ms/step - loss: 0.0399 - accuracy: 0.9888 - val_loss: 0.0289 - val_accuracy: 0.9800\n",
            "Epoch 49/49\n",
            "28/28 [==============================] - 0s 9ms/step - loss: 0.0424 - accuracy: 0.9888 - val_loss: 0.0275 - val_accuracy: 0.9800\n",
            "Epoch 50/50\n",
            "28/28 [==============================] - 0s 9ms/step - loss: 0.0356 - accuracy: 0.9866 - val_loss: 0.0261 - val_accuracy: 0.9900\n"
          ]
        }
      ]
    },
    {
      "cell_type": "markdown",
      "source": [
        "### 7. 완성된 모델 내보내기"
      ],
      "metadata": {
        "id": "vi6saAOFNHM_"
      }
    },
    {
      "cell_type": "code",
      "source": [
        "model.export(export_dir=path)"
      ],
      "metadata": {
        "id": "-SSdfWgyM_7K"
      },
      "execution_count": 15,
      "outputs": []
    },
    {
      "cell_type": "code",
      "source": [
        "# for iOS\n",
        "model.export(export_dir=path,\n",
        "             tflite_filename= 'model_ios.tflite',\n",
        "             export_format=[ExportFormat.LABEL, ExportFormat.VOCAB])"
      ],
      "metadata": {
        "id": "R-JinCi-NSHt"
      },
      "execution_count": 16,
      "outputs": []
    },
    {
      "cell_type": "code",
      "source": [
        ""
      ],
      "metadata": {
        "id": "IHbGXdOTNzq0"
      },
      "execution_count": null,
      "outputs": []
    }
  ]
}