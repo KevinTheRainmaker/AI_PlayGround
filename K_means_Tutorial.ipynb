{
  "nbformat": 4,
  "nbformat_minor": 0,
  "metadata": {
    "colab": {
      "name": "K-means_Tutorial.ipynb",
      "provenance": [],
      "collapsed_sections": [],
      "authorship_tag": "ABX9TyOua/4IWJ/nUkSzx2OEriLv",
      "include_colab_link": true
    },
    "kernelspec": {
      "name": "python3",
      "display_name": "Python 3"
    },
    "language_info": {
      "name": "python"
    }
  },
  "cells": [
    {
      "cell_type": "markdown",
      "metadata": {
        "id": "view-in-github",
        "colab_type": "text"
      },
      "source": [
        "<a href=\"https://colab.research.google.com/github/KevinTheRainmaker/AI_PlayGround/blob/main/K_means_Tutorial.ipynb\" target=\"_parent\"><img src=\"https://colab.research.google.com/assets/colab-badge.svg\" alt=\"Open In Colab\"/></a>"
      ]
    },
    {
      "cell_type": "code",
      "metadata": {
        "id": "ATWleCtXJaiF"
      },
      "source": [
        "import pandas as pd\n",
        "from sklearn.cluster import KMeans\n",
        "import matplotlib.pyplot as plt\n",
        "from sklearn import preprocessing"
      ],
      "execution_count": 3,
      "outputs": []
    },
    {
      "cell_type": "code",
      "metadata": {
        "colab": {
          "base_uri": "https://localhost:8080/",
          "height": 204
        },
        "id": "PwSOBnm_J0s5",
        "outputId": "22ca06f2-ba91-470f-f6f4-6b024847e9e9"
      },
      "source": [
        "data = pd.read_excel('CustomerDataSet.xls')\n",
        "data.head()"
      ],
      "execution_count": 4,
      "outputs": [
        {
          "output_type": "execute_result",
          "data": {
            "text/html": [
              "<div>\n",
              "<style scoped>\n",
              "    .dataframe tbody tr th:only-of-type {\n",
              "        vertical-align: middle;\n",
              "    }\n",
              "\n",
              "    .dataframe tbody tr th {\n",
              "        vertical-align: top;\n",
              "    }\n",
              "\n",
              "    .dataframe thead th {\n",
              "        text-align: right;\n",
              "    }\n",
              "</style>\n",
              "<table border=\"1\" class=\"dataframe\">\n",
              "  <thead>\n",
              "    <tr style=\"text-align: right;\">\n",
              "      <th></th>\n",
              "      <th>Customer ID</th>\n",
              "      <th>ItemsBought</th>\n",
              "      <th>ItemsReturned</th>\n",
              "      <th>ZipCode</th>\n",
              "      <th>Product</th>\n",
              "    </tr>\n",
              "  </thead>\n",
              "  <tbody>\n",
              "    <tr>\n",
              "      <th>0</th>\n",
              "      <td>4</td>\n",
              "      <td>45</td>\n",
              "      <td>10</td>\n",
              "      <td>2</td>\n",
              "      <td>1365</td>\n",
              "    </tr>\n",
              "    <tr>\n",
              "      <th>1</th>\n",
              "      <td>5</td>\n",
              "      <td>42</td>\n",
              "      <td>18</td>\n",
              "      <td>5</td>\n",
              "      <td>2764</td>\n",
              "    </tr>\n",
              "    <tr>\n",
              "      <th>2</th>\n",
              "      <td>6</td>\n",
              "      <td>50</td>\n",
              "      <td>0</td>\n",
              "      <td>1</td>\n",
              "      <td>1343</td>\n",
              "    </tr>\n",
              "    <tr>\n",
              "      <th>3</th>\n",
              "      <td>8</td>\n",
              "      <td>13</td>\n",
              "      <td>12</td>\n",
              "      <td>4</td>\n",
              "      <td>2435</td>\n",
              "    </tr>\n",
              "    <tr>\n",
              "      <th>4</th>\n",
              "      <td>9</td>\n",
              "      <td>10</td>\n",
              "      <td>7</td>\n",
              "      <td>3</td>\n",
              "      <td>2435</td>\n",
              "    </tr>\n",
              "  </tbody>\n",
              "</table>\n",
              "</div>"
            ],
            "text/plain": [
              "   Customer ID  ItemsBought  ItemsReturned  ZipCode  Product\n",
              "0            4           45             10        2     1365\n",
              "1            5           42             18        5     2764\n",
              "2            6           50              0        1     1343\n",
              "3            8           13             12        4     2435\n",
              "4            9           10              7        3     2435"
            ]
          },
          "metadata": {
            "tags": []
          },
          "execution_count": 4
        }
      ]
    },
    {
      "cell_type": "code",
      "metadata": {
        "colab": {
          "base_uri": "https://localhost:8080/",
          "height": 53
        },
        "id": "zSnX4tsVJvDV",
        "outputId": "94127d97-79c1-4c97-a4fe-2aec3c0ff358"
      },
      "source": [
        "processed_data = data.copy()\n",
        "\n",
        "# Nomalization\n",
        "scaler = preprocessing.MinMaxScaler()\n",
        "processed_data[['ItemsBought', 'ItemsReturned']] = scaler.fit_transform(processed_data[['ItemsBought', 'ItemsReturned']])\n",
        "\n",
        "# Figure\n",
        "plt.figure(figsize = (10, 6))"
      ],
      "execution_count": 6,
      "outputs": [
        {
          "output_type": "execute_result",
          "data": {
            "text/plain": [
              "<Figure size 720x432 with 0 Axes>"
            ]
          },
          "metadata": {
            "tags": []
          },
          "execution_count": 6
        },
        {
          "output_type": "display_data",
          "data": {
            "text/plain": [
              "<Figure size 720x432 with 0 Axes>"
            ]
          },
          "metadata": {
            "tags": []
          }
        }
      ]
    },
    {
      "cell_type": "code",
      "metadata": {
        "colab": {
          "base_uri": "https://localhost:8080/",
          "height": 300
        },
        "id": "IE609UtcKBuF",
        "outputId": "bfbc208f-a7a5-4ce7-d1fe-9746d84facaf"
      },
      "source": [
        "for i in range(1, 7):\n",
        "  # Create Cluster\n",
        "  estimator = KMeans(n_clusters = i)\n",
        "  ids = estimator.fit_predict(processed_data[['ItemsBought', 'ItemsReturned']])\n",
        "\n",
        "  plt.subplot(3, 2, i)\n",
        "  plt.tight_layout()\n",
        "\n",
        "  plt.title(\"K value = {}\".format(i))\n",
        "  plt.xlabel('ItemsBought')\n",
        "  plt.ylabel('ItemsReturned')\n",
        "\n",
        "  plt.scatter(processed_data['ItemsBought'], processed_data['ItemsReturned'], c=ids)  \n",
        "plt.show()"
      ],
      "execution_count": 11,
      "outputs": [
        {
          "output_type": "display_data",
          "data": {
            "image/png": "[encoded data removed]",
            "text/plain": [
              "<Figure size 432x288 with 6 Axes>"
            ]
          },
          "metadata": {
            "tags": [],
            "needs_background": "light"
          }
        }
      ]
    },
    {
      "cell_type": "code",
      "metadata": {
        "colab": {
          "base_uri": "https://localhost:8080/",
          "height": 297
        },
        "id": "fDUgTUNZKORv",
        "outputId": "419b6d89-395a-4dda-c758-d34050bf2e5b"
      },
      "source": [
        "estimator = KMeans(n_clusters = 3)\n",
        "cluster_ids = estimator.fit_predict(processed_data[['ItemsBought', 'ItemsReturned']])\n",
        "# create a scatter plot\n",
        "plt.scatter(processed_data['ItemsBought'], processed_data['ItemsReturned'], c=cluster_ids)\n",
        "\n",
        "for index, c_id, bought, returned, zip_code, product in processed_data.itertuples():\n",
        "  plt.annotate(\"Clu{}: {}\".format(cluster_ids[index], product),(bought, returned))\n",
        "    \n",
        "plt.xlabel('ItemsBought')"
      ],
      "execution_count": 13,
      "outputs": [
        {
          "output_type": "execute_result",
          "data": {
            "text/plain": [
              "Text(0.5, 0, 'ItemsBought')"
            ]
          },
          "metadata": {
            "tags": []
          },
          "execution_count": 13
        },
        {
          "output_type": "display_data",
          "data": {
            "image/png": "[encoded data removed]",
            "text/plain": [
              "<Figure size 432x288 with 1 Axes>"
            ]
          },
          "metadata": {
            "tags": [],
            "needs_background": "light"
          }
        }
      ]
    },
    {
      "cell_type": "code",
      "metadata": {
        "colab": {
          "base_uri": "https://localhost:8080/",
          "height": 235
        },
        "id": "baALd4USKpz9",
        "outputId": "28699373-f9a9-4f9d-8d69-c58613b7bd53"
      },
      "source": [
        "data[ cluster_ids == 1 ]"
      ],
      "execution_count": 14,
      "outputs": [
        {
          "output_type": "execute_result",
          "data": {
            "text/html": [
              "<div>\n",
              "<style scoped>\n",
              "    .dataframe tbody tr th:only-of-type {\n",
              "        vertical-align: middle;\n",
              "    }\n",
              "\n",
              "    .dataframe tbody tr th {\n",
              "        vertical-align: top;\n",
              "    }\n",
              "\n",
              "    .dataframe thead th {\n",
              "        text-align: right;\n",
              "    }\n",
              "</style>\n",
              "<table border=\"1\" class=\"dataframe\">\n",
              "  <thead>\n",
              "    <tr style=\"text-align: right;\">\n",
              "      <th></th>\n",
              "      <th>Customer ID</th>\n",
              "      <th>ItemsBought</th>\n",
              "      <th>ItemsReturned</th>\n",
              "      <th>ZipCode</th>\n",
              "      <th>Product</th>\n",
              "    </tr>\n",
              "  </thead>\n",
              "  <tbody>\n",
              "    <tr>\n",
              "      <th>0</th>\n",
              "      <td>4</td>\n",
              "      <td>45</td>\n",
              "      <td>10</td>\n",
              "      <td>2</td>\n",
              "      <td>1365</td>\n",
              "    </tr>\n",
              "    <tr>\n",
              "      <th>2</th>\n",
              "      <td>6</td>\n",
              "      <td>50</td>\n",
              "      <td>0</td>\n",
              "      <td>1</td>\n",
              "      <td>1343</td>\n",
              "    </tr>\n",
              "    <tr>\n",
              "      <th>7</th>\n",
              "      <td>12</td>\n",
              "      <td>40</td>\n",
              "      <td>8</td>\n",
              "      <td>2</td>\n",
              "      <td>1236</td>\n",
              "    </tr>\n",
              "    <tr>\n",
              "      <th>9</th>\n",
              "      <td>15</td>\n",
              "      <td>36</td>\n",
              "      <td>7</td>\n",
              "      <td>2</td>\n",
              "      <td>1764</td>\n",
              "    </tr>\n",
              "    <tr>\n",
              "      <th>10</th>\n",
              "      <td>16</td>\n",
              "      <td>42</td>\n",
              "      <td>1</td>\n",
              "      <td>1</td>\n",
              "      <td>1547</td>\n",
              "    </tr>\n",
              "    <tr>\n",
              "      <th>11</th>\n",
              "      <td>17</td>\n",
              "      <td>46</td>\n",
              "      <td>1</td>\n",
              "      <td>1</td>\n",
              "      <td>1265</td>\n",
              "    </tr>\n",
              "  </tbody>\n",
              "</table>\n",
              "</div>"
            ],
            "text/plain": [
              "    Customer ID  ItemsBought  ItemsReturned  ZipCode  Product\n",
              "0             4           45             10        2     1365\n",
              "2             6           50              0        1     1343\n",
              "7            12           40              8        2     1236\n",
              "9            15           36              7        2     1764\n",
              "10           16           42              1        1     1547\n",
              "11           17           46              1        1     1265"
            ]
          },
          "metadata": {
            "tags": []
          },
          "execution_count": 14
        }
      ]
    },
    {
      "cell_type": "code",
      "metadata": {
        "colab": {
          "base_uri": "https://localhost:8080/",
          "height": 279
        },
        "id": "hoIkdMIZKs1o",
        "outputId": "53041045-24ed-4e18-b6a5-52479e27e729"
      },
      "source": [
        "plt.scatter(data['ItemsBought'], data['ItemsReturned'], c=cluster_ids)\n",
        "for (index, c_id, bought, returned, zip_code, product) in processed_data.itertuples():\n",
        "    plt.annotate(zip_code,(bought + 0.6, returned + 0.6))\n",
        "    \n",
        "plt.xlabel('ItemsBought')\n",
        "plt.ylabel('ItemsReturned')\n",
        "plt.show()"
      ],
      "execution_count": 16,
      "outputs": [
        {
          "output_type": "display_data",
          "data": {
            "image/png": "[encoded data removed]",
            "text/plain": [
              "<Figure size 432x288 with 1 Axes>"
            ]
          },
          "metadata": {
            "tags": [],
            "needs_background": "light"
          }
        }
      ]
    },
    {
      "cell_type": "code",
      "metadata": {
        "id": "H_mzwSWRKyAw"
      },
      "source": [
        ""
      ],
      "execution_count": null,
      "outputs": []
    }
  ]
}