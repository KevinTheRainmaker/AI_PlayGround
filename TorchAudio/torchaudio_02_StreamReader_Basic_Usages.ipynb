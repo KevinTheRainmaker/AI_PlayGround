{
  "nbformat": 4,
  "nbformat_minor": 0,
  "metadata": {
    "colab": {
      "provenance": [],
      "authorship_tag": "ABX9TyN188AMFBcethaKZNGbzKps",
      "include_colab_link": true
    },
    "kernelspec": {
      "name": "python3",
      "display_name": "Python 3"
    },
    "language_info": {
      "name": "python"
    }
  },
  "cells": [
    {
      "cell_type": "markdown",
      "metadata": {
        "id": "view-in-github",
        "colab_type": "text"
      },
      "source": [
        "<a href=\"https://colab.research.google.com/github/KevinTheRainmaker/AI_Tutorials/blob/main/TorchAudio/torchaudio_02_StreamReader_Basic_Usages.ipynb\" target=\"_parent\"><img src=\"https://colab.research.google.com/assets/colab-badge.svg\" alt=\"Open In Colab\"/></a>"
      ]
    },
    {
      "cell_type": "markdown",
      "source": [
        "## StreamReader Basic Usages"
      ],
      "metadata": {
        "id": "9eLbiQ2dsR6H"
      }
    },
    {
      "cell_type": "markdown",
      "source": [
        "이 튜토리얼은 audio/video 데이터를 fetch하고 decode하기 위해 `torchaudio.io.StreamReader`를 어떻게 사용할 수 있는지, 그리고 libavfilter가 제공하는 preprocessing을 적용할 수 있는지에 대해서 다룬다."
      ],
      "metadata": {
        "id": "BCmwPd_bsXMS"
      }
    },
    {
      "cell_type": "markdown",
      "source": [
        "Streaming API는 ffmpeg의 강력한 I/O feature들을 이용한다.\n",
        "\n",
        "- 다양한 포맷의 audio/video load 가능\n",
        "- local/remote source의 audio/video load 가능\n",
        "- file-like object의 audio/video load 가능\n",
        "- 마이크, 카메라와 스크린으로부터 audio/video load 가능\n",
        "- 합성 audio/video signal 생성 가능\n",
        "- chunk 단위로 audio/video load 가능\n",
        "- sample rate, frame rate, image size 변경 가능\n",
        "- filter와 preprocessing 적용 가능"
      ],
      "metadata": {
        "id": "LRz6BeBjI_ZV"
      }
    },
    {
      "cell_type": "markdown",
      "source": [
        "Streaming API는 다음과 같이 세 단계로 동작한다.\n",
        "1. Media source 열기\n",
        "2. Output stream 설정\n",
        "3. Media streaming 시작"
      ],
      "metadata": {
        "id": "L7hfeL9EJtkC"
      }
    },
    {
      "cell_type": "markdown",
      "source": [
        "### Preparation"
      ],
      "metadata": {
        "id": "DYFRzOL-KCJT"
      }
    },
    {
      "cell_type": "code",
      "source": [
        "import torch\n",
        "import torchaudio\n",
        "\n",
        "print(torch.__version__)\n",
        "print(torchaudio.__version__)"
      ],
      "metadata": {
        "id": "WzPA30cQuFYd",
        "colab": {
          "base_uri": "https://localhost:8080/"
        },
        "outputId": "6730f7af-16eb-49d2-d0e9-23e7414b40f8"
      },
      "execution_count": 2,
      "outputs": [
        {
          "output_type": "stream",
          "name": "stdout",
          "text": [
            "2.0.1+cu118\n",
            "2.0.2+cu118\n"
          ]
        }
      ]
    },
    {
      "cell_type": "code",
      "source": [
        "from torchaudio.io import StreamReader\n",
        "import matplotlib.pyplot as plt"
      ],
      "metadata": {
        "id": "BBnD3hGMs2IP"
      },
      "execution_count": 5,
      "outputs": []
    },
    {
      "cell_type": "code",
      "source": [
        "base_url = \"https://download.pytorch.org/torchaudio/tutorial-assets\"\n",
        "AUDIO_URL = f\"{base_url}/Lab41-SRI-VOiCES-src-sp0307-ch127535-sg0042.wav\"\n",
        "VIDEO_URL = f\"{base_url}/stream-api/NASAs_Most_Scientifically_Complex_Space_Observatory_Requires_Precision-MP4.mp4\""
      ],
      "metadata": {
        "id": "bj0EbDK7Kf-0"
      },
      "execution_count": 6,
      "outputs": []
    },
    {
      "cell_type": "markdown",
      "source": [
        "### Opening the source"
      ],
      "metadata": {
        "id": "qlbFVR9nKs7n"
      }
    },
    {
      "cell_type": "markdown",
      "source": [
        "Streaming API는 일반적인 미디어 포맷 파일은 물론, Audio/Video 기기 및 합성 audio/video sorce 또한 열 수 있다. 이후 과정은 모든 source에 대해 동일하다."
      ],
      "metadata": {
        "id": "TRg3FzhmKwEG"
      }
    },
    {
      "cell_type": "markdown",
      "source": [
        "#### Local files"
      ],
      "metadata": {
        "id": "Bq0TrsZqL4cv"
      }
    },
    {
      "cell_type": "code",
      "source": [
        "# audio\n",
        "StreamReader(src='sample1.wav')\n",
        "StreamReader(src='sample2.mp3')"
      ],
      "metadata": {
        "colab": {
          "base_uri": "https://localhost:8080/"
        },
        "id": "LfFuBmq7KrX-",
        "outputId": "1386bdad-8a24-4fe5-da7c-340bb89f56e7"
      },
      "execution_count": 9,
      "outputs": [
        {
          "output_type": "execute_result",
          "data": {
            "text/plain": [
              "<torchaudio.io._stream_reader.StreamReader at 0x7f39a04b5a50>"
            ]
          },
          "metadata": {},
          "execution_count": 9
        }
      ]
    },
    {
      "cell_type": "markdown",
      "source": [
        "#### Network protocols"
      ],
      "metadata": {
        "id": "-A1eoKTOMHJJ"
      }
    },
    {
      "cell_type": "code",
      "source": [
        "StreamReader(src=AUDIO_URL)\n",
        "StreamReader(src=VIDEO_URL)"
      ],
      "metadata": {
        "colab": {
          "base_uri": "https://localhost:8080/"
        },
        "id": "w_sYqCvSMJ_N",
        "outputId": "636c6bb7-720f-4166-d33a-e3db07d8bdcb"
      },
      "execution_count": 11,
      "outputs": [
        {
          "output_type": "execute_result",
          "data": {
            "text/plain": [
              "<torchaudio.io._stream_reader.StreamReader at 0x7f39a04b59f0>"
            ]
          },
          "metadata": {},
          "execution_count": 11
        }
      ]
    },
    {
      "cell_type": "markdown",
      "source": [
        "#### File-like objects"
      ],
      "metadata": {
        "id": "NXL4n826NsJm"
      }
    },
    {
      "cell_type": "code",
      "source": [],
      "metadata": {
        "id": "WLpH6-emN0Xs"
      },
      "execution_count": null,
      "outputs": []
    }
  ]
}