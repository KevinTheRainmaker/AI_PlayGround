{
  "nbformat": 4,
  "nbformat_minor": 0,
  "metadata": {
    "colab": {
      "provenance": [],
      "authorship_tag": "ABX9TyOzRtPojn9Xx6VXMLyoNNSL",
      "include_colab_link": true
    },
    "kernelspec": {
      "name": "python3",
      "display_name": "Python 3"
    },
    "language_info": {
      "name": "python"
    }
  },
  "cells": [
    {
      "cell_type": "markdown",
      "metadata": {
        "id": "view-in-github",
        "colab_type": "text"
      },
      "source": [
        "<a href=\"https://colab.research.google.com/github/KevinTheRainmaker/AI_Tutorials/blob/main/TorchAudio/torchaudio_02_StreamReader_Basic_Usages.ipynb\" target=\"_parent\"><img src=\"https://colab.research.google.com/assets/colab-badge.svg\" alt=\"Open In Colab\"/></a>"
      ]
    },
    {
      "cell_type": "markdown",
      "source": [
        "## StreamReader Basic Usages"
      ],
      "metadata": {
        "id": "9eLbiQ2dsR6H"
      }
    },
    {
      "cell_type": "markdown",
      "source": [
        "이 튜토리얼은 audio/video 데이터를 fetch하고 decode하기 위해 `torchaudio.io.StreamReader`를 어떻게 사용할 수 있는지, 그리고 libavfilter가 제공하는 preprocessing을 적용할 수 있는지에 대해서 다룬다."
      ],
      "metadata": {
        "id": "BCmwPd_bsXMS"
      }
    },
    {
      "cell_type": "code",
      "execution_count": 10,
      "metadata": {
        "id": "yN8FoXgysCaf",
        "colab": {
          "base_uri": "https://localhost:8080/"
        },
        "outputId": "f2e8424b-e026-4e98-83eb-6a94318338d4"
      },
      "outputs": [
        {
          "output_type": "stream",
          "name": "stdout",
          "text": [
            "    ffmpeg | 7:4.4.2-0ubuntu0.22.04.1 | http://archive.ubuntu.com/ubuntu jammy-updates/universe amd64 Packages\n",
            "    ffmpeg | 7:4.4.2-0ubuntu0.22.04.1 | http://security.ubuntu.com/ubuntu jammy-security/universe amd64 Packages\n",
            "    ffmpeg | 7:4.4.1-3ubuntu5 | http://archive.ubuntu.com/ubuntu jammy/universe amd64 Packages\n"
          ]
        }
      ],
      "source": [
        "!sudo apt-cache madison ffmpeg"
      ]
    },
    {
      "cell_type": "code",
      "source": [],
      "metadata": {
        "id": "WzPA30cQuFYd"
      },
      "execution_count": null,
      "outputs": []
    },
    {
      "cell_type": "code",
      "source": [],
      "metadata": {
        "id": "BBnD3hGMs2IP"
      },
      "execution_count": null,
      "outputs": []
    }
  ]
}