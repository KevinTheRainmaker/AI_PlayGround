{
  "nbformat": 4,
  "nbformat_minor": 0,
  "metadata": {
    "colab": {
      "name": "SMOTE_Trial.ipynb",
      "provenance": [],
      "collapsed_sections": [],
      "authorship_tag": "ABX9TyOUH2vXh+1i7vfFUhHSw7DE",
      "include_colab_link": true
    },
    "kernelspec": {
      "name": "python3",
      "display_name": "Python 3"
    },
    "language_info": {
      "name": "python"
    }
  },
  "cells": [
    {
      "cell_type": "markdown",
      "metadata": {
        "id": "view-in-github",
        "colab_type": "text"
      },
      "source": [
        "<a href=\"https://colab.research.google.com/github/KevinTheRainmaker/AI_PlayGround/blob/main/SMOTE_Trial.ipynb\" target=\"_parent\"><img src=\"https://colab.research.google.com/assets/colab-badge.svg\" alt=\"Open In Colab\"/></a>"
      ]
    },
    {
      "cell_type": "code",
      "metadata": {
        "id": "QxeVP7tX9EvD"
      },
      "source": [
        "#Load Library & Framework\n",
        "import pandas as pd\n",
        "import numpy as np\n",
        "import torch\n",
        "\n",
        "from sklearn.model_selection import train_test_split\n",
        "from sklearn.preprocessing import MinMaxScaler\n",
        "from sklearn.metrics import *\n",
        "from sklearn.linear_model import LogisticRegression\n",
        "import lightgbm\n",
        "from lightgbm import LGBMClassifier\n",
        "import torch.utils.data as data_utils\n",
        "from imblearn.over_sampling import SMOTE\n",
        "\n",
        "import warnings\n",
        "warnings.filterwarnings(\"ignore\")"
      ],
      "execution_count": 17,
      "outputs": []
    },
    {
      "cell_type": "code",
      "metadata": {
        "id": "cbHcfpDw90Q_",
        "colab": {
          "base_uri": "https://localhost:8080/"
        },
        "outputId": "9ea77d73-a25c-4026-ae83-86a8a32daeae"
      },
      "source": [
        "from google.colab import drive\n",
        "drive.mount('/content/drive')"
      ],
      "execution_count": 2,
      "outputs": [
        {
          "output_type": "stream",
          "text": [
            "Mounted at /content/drive\n"
          ],
          "name": "stdout"
        }
      ]
    },
    {
      "cell_type": "code",
      "metadata": {
        "colab": {
          "base_uri": "https://localhost:8080/"
        },
        "id": "bNw2UU8G-A3D",
        "outputId": "6ce33b67-6ec3-4194-f354-77c0dc997224"
      },
      "source": [
        "df = pd.read_csv('drive/MyDrive/creditcard.csv')\n",
        "# df.Class.value_counts(normalize=True).plot(kind='bar')\n",
        "print(df.Class.value_counts(normalize=True)*100)"
      ],
      "execution_count": 18,
      "outputs": [
        {
          "output_type": "stream",
          "text": [
            "0    99.827251\n",
            "1     0.172749\n",
            "Name: Class, dtype: float64\n"
          ],
          "name": "stdout"
        }
      ]
    },
    {
      "cell_type": "code",
      "metadata": {
        "id": "Y_yn8KSr-zC1"
      },
      "source": [
        "X = df.iloc[:,:-1]\n",
        "y = df.iloc[:,-1]\n",
        "X_train, X_test, y_train, y_test = train_test_split(X,y,test_size=0.25,random_state=10)"
      ],
      "execution_count": 19,
      "outputs": []
    },
    {
      "cell_type": "code",
      "metadata": {
        "id": "0F4PFtLw-8IX"
      },
      "source": [
        "#Metircs\n",
        "def metrics(y_test,pred):\n",
        "    accuracy = accuracy_score(y_test,pred)\n",
        "    precision = precision_score(y_test,pred)\n",
        "    recall = recall_score(y_test,pred)\n",
        "    f1 = f1_score(y_test,pred)\n",
        "    roc_score = roc_auc_score(y_test,pred,average='macro')\n",
        "    print('Accuracy : {0:.2f}, Precision : {1:.2f}, Recall : {2:.2f}'.format(accuracy,precision,recall))\n",
        "    print('f1-score : {0:.2f}, auc : {1:.2f}'.format(f1,roc_score,recall))\n",
        "\n",
        "#Modeling\n",
        "def modeling(model,x_train,x_test,y_train,y_test):\n",
        "    model.fit(x_train,y_train)\n",
        "    pred = model.predict(x_test)\n",
        "    metrics(y_test,pred)"
      ],
      "execution_count": 22,
      "outputs": []
    },
    {
      "cell_type": "code",
      "metadata": {
        "colab": {
          "base_uri": "https://localhost:8080/"
        },
        "id": "62dBl832--_j",
        "outputId": "c218b5bc-6519-4d75-9208-43ea50475a1b"
      },
      "source": [
        "#SMOTE\n",
        "smote = SMOTE(random_state=0)\n",
        "X_train_over,y_train_over = smote.fit_sample(X_train,y_train)\n",
        "print('Features for train / label Dataset before SMOTE: ', X_train.shape, y_train.shape)\n",
        "print('Features for train / label Dataset after SMOTE: ', X_train_over.shape, y_train_over.shape)\n",
        "print('Label value distribution after SMOTE: \\n', pd.Series(y_train_over).value_counts())"
      ],
      "execution_count": 23,
      "outputs": [
        {
          "output_type": "stream",
          "text": [
            "Features for train / label Dataset before SMOTE:  (213605, 30) (213605,)\n",
            "Features for train / label Dataset after SMOTE:  (426468, 30) (426468,)\n",
            "Label value distribution after SMOTE: \n",
            " 1    213234\n",
            "0    213234\n",
            "dtype: int64\n"
          ],
          "name": "stdout"
        }
      ]
    },
    {
      "cell_type": "code",
      "metadata": {
        "colab": {
          "base_uri": "https://localhost:8080/"
        },
        "id": "jLNtQFqBAuzm",
        "outputId": "14ebfb7d-eaa8-4da9-ae82-12cd15d81b9d"
      },
      "source": [
        "#Logistic\n",
        "lr = LogisticRegression()\n",
        "modeling(lr,X_train_over,X_test,y_train_over,y_test)"
      ],
      "execution_count": 24,
      "outputs": [
        {
          "output_type": "stream",
          "text": [
            "Accuracy : 0.98, Precision : 0.08, Recall : 0.91\n",
            "f1-score : 0.15, auc : 0.95\n"
          ],
          "name": "stdout"
        }
      ]
    },
    {
      "cell_type": "code",
      "metadata": {
        "colab": {
          "base_uri": "https://localhost:8080/"
        },
        "id": "iXwewjLvAynk",
        "outputId": "a3ab7518-07ce-4326-f8d6-bda9c71b24c6"
      },
      "source": [
        "#lightgbm\n",
        "lgb = LGBMClassifier(n_estimators=1000,num_leaves=64,n_jobs=-1,boost_from_average=False)\n",
        "modeling(lgb,X_train_over,X_test,y_train_over,y_test)"
      ],
      "execution_count": 25,
      "outputs": [
        {
          "output_type": "stream",
          "text": [
            "Accuracy : 1.00, Precision : 0.89, Recall : 0.85\n",
            "f1-score : 0.87, auc : 0.93\n"
          ],
          "name": "stdout"
        }
      ]
    },
    {
      "cell_type": "code",
      "metadata": {
        "id": "CmsCCQazA3bx"
      },
      "source": [
        ""
      ],
      "execution_count": null,
      "outputs": []
    }
  ]
}