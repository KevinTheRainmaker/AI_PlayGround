{
  "nbformat": 4,
  "nbformat_minor": 0,
  "metadata": {
    "colab": {
      "name": "Transfer_Learning_Tutorial.ipynb",
      "provenance": [],
      "collapsed_sections": [],
      "authorship_tag": "ABX9TyOO4l93QRYJswhn2wBjWMZ7",
      "include_colab_link": true
    },
    "kernelspec": {
      "name": "python3",
      "display_name": "Python 3"
    },
    "language_info": {
      "name": "python"
    },
    "accelerator": "GPU",
    "gpuClass": "standard"
  },
  "cells": [
    {
      "cell_type": "markdown",
      "metadata": {
        "id": "view-in-github",
        "colab_type": "text"
      },
      "source": [
        "<a href=\"https://colab.research.google.com/github/KevinTheRainmaker/AI_Tutorials/blob/main/Transfer_Learning_Tutorial.ipynb\" target=\"_parent\"><img src=\"https://colab.research.google.com/assets/colab-badge.svg\" alt=\"Open In Colab\"/></a>"
      ]
    },
    {
      "cell_type": "markdown",
      "source": [
        "# Classify IMDB Reviews"
      ],
      "metadata": {
        "id": "cHzhj_tySkg1"
      }
    },
    {
      "cell_type": "markdown",
      "source": [
        "## 0. Intro"
      ],
      "metadata": {
        "id": "AUXbWQHlNc5v"
      }
    },
    {
      "cell_type": "code",
      "execution_count": 2,
      "metadata": {
        "id": "vB1WyXHcI8b5"
      },
      "outputs": [],
      "source": [
        "!pip install -q tensorflow-hub\n",
        "!pip install -q tfds-nightly\n",
        "# pip install tensorflow-datasets : 몇 개월마다 릴리스되는 안정적인 버전\n",
        "# pip install tfds-nightly : 매일 릴리스되는 최신 데이터 세트"
      ]
    },
    {
      "cell_type": "code",
      "source": [
        "import tensorflow as tf\n",
        "from tensorflow import keras\n",
        "\n",
        "import tensorflow_hub as hub\n",
        "import tensorflow_datasets as tfds\n",
        "\n",
        "import numpy as np\n",
        "\n",
        "print(tf.__version__)\n",
        "print(hub.__version__)"
      ],
      "metadata": {
        "colab": {
          "base_uri": "https://localhost:8080/"
        },
        "id": "BOxYZnkcJp2n",
        "outputId": "ce2c44c2-9067-41fb-da2c-61411d7d6221"
      },
      "execution_count": 3,
      "outputs": [
        {
          "output_type": "stream",
          "name": "stdout",
          "text": [
            "2.8.2\n",
            "0.12.0\n"
          ]
        }
      ]
    },
    {
      "cell_type": "code",
      "source": [
        "# check GPU\n",
        "print('GPU', \"On\" if tf.config.experimental.list_physical_devices(\"GPU\") else \"Off\")"
      ],
      "metadata": {
        "colab": {
          "base_uri": "https://localhost:8080/"
        },
        "id": "BI_ycj28KCQh",
        "outputId": "ce02de1f-06b7-4d5b-f4fc-82643b001506"
      },
      "execution_count": 4,
      "outputs": [
        {
          "output_type": "stream",
          "name": "stdout",
          "text": [
            "GPU On\n"
          ]
        }
      ]
    },
    {
      "cell_type": "markdown",
      "source": [
        "## 1. Data"
      ],
      "metadata": {
        "id": "D4je8EXENgPh"
      }
    },
    {
      "cell_type": "code",
      "source": [
        "train_data, val_data, test_data = tfds.load(\n",
        "    name='imdb_reviews',\n",
        "    split=('train[:60%]', 'train[60%:]', 'test'),\n",
        "    as_supervised=True\n",
        ") "
      ],
      "metadata": {
        "id": "uGF0UHK8KWS6"
      },
      "execution_count": 28,
      "outputs": []
    },
    {
      "cell_type": "code",
      "source": [
        "print(len(train_data))\n",
        "print(len(val_data))\n",
        "print(len(test_data))"
      ],
      "metadata": {
        "colab": {
          "base_uri": "https://localhost:8080/"
        },
        "id": "94WveZQxK3du",
        "outputId": "e5a7f9e6-b26a-4af1-d377-76da9604d00a"
      },
      "execution_count": 29,
      "outputs": [
        {
          "output_type": "stream",
          "name": "stdout",
          "text": [
            "15000\n",
            "10000\n",
            "25000\n"
          ]
        }
      ]
    },
    {
      "cell_type": "code",
      "source": [
        "train_example_batch, train_label_batch = next(iter(train_data.batch(10)))\n",
        "print(train_example_batch)\n",
        "print(train_label_batch )"
      ],
      "metadata": {
        "colab": {
          "base_uri": "https://localhost:8080/"
        },
        "id": "YB1YOlTiMThK",
        "outputId": "e3a52286-b043-4f19-d402-d0beb4588c17"
      },
      "execution_count": 30,
      "outputs": [
        {
          "output_type": "stream",
          "name": "stdout",
          "text": [
            "tf.Tensor(\n",
            "[b\"This was an absolutely terrible movie. Don't be lured in by Christopher Walken or Michael Ironside. Both are great actors, but this must simply be their worst role in history. Even their great acting could not redeem this movie's ridiculous storyline. This movie is an early nineties US propaganda piece. The most pathetic scenes were those when the Columbian rebels were making their cases for revolutions. Maria Conchita Alonso appeared phony, and her pseudo-love affair with Walken was nothing but a pathetic emotional plug in a movie that was devoid of any real meaning. I am disappointed that there are movies like this, ruining actor's like Christopher Walken's good name. I could barely sit through it.\"\n",
            " b'I have been known to fall asleep during films, but this is usually due to a combination of things including, really tired, being warm and comfortable on the sette and having just eaten a lot. However on this occasion I fell asleep because the film was rubbish. The plot development was constant. Constantly slow and boring. Things seemed to happen, but with no explanation of what was causing them or why. I admit, I may have missed part of the film, but i watched the majority of it and everything just seemed to happen of its own accord without any real concern for anything else. I cant recommend this film at all.'\n",
            " b'Mann photographs the Alberta Rocky Mountains in a superb fashion, and Jimmy Stewart and Walter Brennan give enjoyable performances as they always seem to do. <br /><br />But come on Hollywood - a Mountie telling the people of Dawson City, Yukon to elect themselves a marshal (yes a marshal!) and to enforce the law themselves, then gunfighters battling it out on the streets for control of the town? <br /><br />Nothing even remotely resembling that happened on the Canadian side of the border during the Klondike gold rush. Mr. Mann and company appear to have mistaken Dawson City for Deadwood, the Canadian North for the American Wild West.<br /><br />Canadian viewers be prepared for a Reefer Madness type of enjoyable howl with this ludicrous plot, or, to shake your head in disgust.'\n",
            " b'This is the kind of film for a snowy Sunday afternoon when the rest of the world can go ahead with its own business as you descend into a big arm-chair and mellow for a couple of hours. Wonderful performances from Cher and Nicolas Cage (as always) gently row the plot along. There are no rapids to cross, no dangerous waters, just a warm and witty paddle through New York life at its best. A family film in every sense and one that deserves the praise it received.'\n",
            " b'As others have mentioned, all the women that go nude in this film are mostly absolutely gorgeous. The plot very ably shows the hypocrisy of the female libido. When men are around they want to be pursued, but when no \"men\" are around, they become the pursuers of a 14 year old boy. And the boy becomes a man really fast (we should all be so lucky at this age!). He then gets up the courage to pursue his true love.'\n",
            " b\"This is a film which should be seen by anybody interested in, effected by, or suffering from an eating disorder. It is an amazingly accurate and sensitive portrayal of bulimia in a teenage girl, its causes and its symptoms. The girl is played by one of the most brilliant young actresses working in cinema today, Alison Lohman, who was later so spectacular in 'Where the Truth Lies'. I would recommend that this film be shown in all schools, as you will never see a better on this subject. Alison Lohman is absolutely outstanding, and one marvels at her ability to convey the anguish of a girl suffering from this compulsive disorder. If barometers tell us the air pressure, Alison Lohman tells us the emotional pressure with the same degree of accuracy. Her emotional range is so precise, each scene could be measured microscopically for its gradations of trauma, on a scale of rising hysteria and desperation which reaches unbearable intensity. Mare Winningham is the perfect choice to play her mother, and does so with immense sympathy and a range of emotions just as finely tuned as Lohman's. Together, they make a pair of sensitive emotional oscillators vibrating in resonance with one another. This film is really an astonishing achievement, and director Katt Shea should be proud of it. The only reason for not seeing it is if you are not interested in people. But even if you like nature films best, this is after all animal behaviour at the sharp edge. Bulimia is an extreme version of how a tormented soul can destroy her own body in a frenzy of despair. And if we don't sympathise with people suffering from the depths of despair, then we are dead inside.\"\n",
            " b'Okay, you have:<br /><br />Penelope Keith as Miss Herringbone-Tweed, B.B.E. (Backbone of England.) She\\'s killed off in the first scene - that\\'s right, folks; this show has no backbone!<br /><br />Peter O\\'Toole as Ol\\' Colonel Cricket from The First War and now the emblazered Lord of the Manor.<br /><br />Joanna Lumley as the ensweatered Lady of the Manor, 20 years younger than the colonel and 20 years past her own prime but still glamourous (Brit spelling, not mine) enough to have a toy-boy on the side. It\\'s alright, they have Col. Cricket\\'s full knowledge and consent (they guy even comes \\'round for Christmas!) Still, she\\'s considerate of the colonel enough to have said toy-boy her own age (what a gal!)<br /><br />David McCallum as said toy-boy, equally as pointlessly glamourous as his squeeze. Pilcher couldn\\'t come up with any cover for him within the story, so she gave him a hush-hush job at the Circus.<br /><br />and finally:<br /><br />Susan Hampshire as Miss Polonia Teacups, Venerable Headmistress of the Venerable Girls\\' Boarding-School, serving tea in her office with a dash of deep, poignant advice for life in the outside world just before graduation. Her best bit of advice: \"I\\'ve only been to Nancherrow (the local Stately Home of England) once. I thought it was very beautiful but, somehow, not part of the real world.\" Well, we can\\'t say they didn\\'t warn us.<br /><br />Ah, Susan - time was, your character would have been running the whole show. They don\\'t write \\'em like that any more. Our loss, not yours.<br /><br />So - with a cast and setting like this, you have the re-makings of \"Brideshead Revisited,\" right?<br /><br />Wrong! They took these 1-dimensional supporting roles because they paid so well. After all, acting is one of the oldest temp-jobs there is (YOU name another!)<br /><br />First warning sign: lots and lots of backlighting. They get around it by shooting outdoors - \"hey, it\\'s just the sunlight!\"<br /><br />Second warning sign: Leading Lady cries a lot. When not crying, her eyes are moist. That\\'s the law of romance novels: Leading Lady is \"dewy-eyed.\"<br /><br />Henceforth, Leading Lady shall be known as L.L.<br /><br />Third warning sign: L.L. actually has stars in her eyes when she\\'s in love. Still, I\\'ll give Emily Mortimer an award just for having to act with that spotlight in her eyes (I wonder . did they use contacts?)<br /><br />And lastly, fourth warning sign: no on-screen female character is \"Mrs.\" She\\'s either \"Miss\" or \"Lady.\"<br /><br />When all was said and done, I still couldn\\'t tell you who was pursuing whom and why. I couldn\\'t even tell you what was said and done.<br /><br />To sum up: they all live through World War II without anything happening to them at all.<br /><br />OK, at the end, L.L. finds she\\'s lost her parents to the Japanese prison camps and baby sis comes home catatonic. Meanwhile (there\\'s always a \"meanwhile,\") some young guy L.L. had a crush on (when, I don\\'t know) comes home from some wartime tough spot and is found living on the street by Lady of the Manor (must be some street if SHE\\'s going to find him there.) Both war casualties are whisked away to recover at Nancherrow (SOMEBODY has to be \"whisked away\" SOMEWHERE in these romance stories!)<br /><br />Great drama.'\n",
            " b'The film is based on a genuine 1950s novel.<br /><br />Journalist Colin McInnes wrote a set of three \"London novels\": \"Absolute Beginners\", \"City of Spades\" and \"Mr Love and Justice\". I have read all three. The first two are excellent. The last, perhaps an experiment that did not come off. But McInnes\\'s work is highly acclaimed; and rightly so. This musical is the novelist\\'s ultimate nightmare - to see the fruits of one\\'s mind being turned into a glitzy, badly-acted, soporific one-dimensional apology of a film that says it captures the spirit of 1950s London, and does nothing of the sort.<br /><br />Thank goodness Colin McInnes wasn\\'t alive to witness it.'\n",
            " b'I really love the sexy action and sci-fi films of the sixties and its because of the actress\\'s that appeared in them. They found the sexiest women to be in these films and it didn\\'t matter if they could act (Remember \"Candy\"?). The reason I was disappointed by this film was because it wasn\\'t nostalgic enough. The story here has a European sci-fi film called \"Dragonfly\" being made and the director is fired. So the producers decide to let a young aspiring filmmaker (Jeremy Davies) to complete the picture. They\\'re is one real beautiful woman in the film who plays Dragonfly but she\\'s barely in it. Film is written and directed by Roman Coppola who uses some of his fathers exploits from his early days and puts it into the script. I wish the film could have been an homage to those early films. They could have lots of cameos by actors who appeared in them. There is one actor in this film who was popular from the sixties and its John Phillip Law (Barbarella). Gerard Depardieu, Giancarlo Giannini and Dean Stockwell appear as well. I guess I\\'m going to have to continue waiting for a director to make a good homage to the films of the sixties. If any are reading this, \"Make it as sexy as you can\"! I\\'ll be waiting!'\n",
            " b'Sure, this one isn\\'t really a blockbuster, nor does it target such a position. \"Dieter\" is the first name of a quite popular German musician, who is either loved or hated for his kind of acting and thats exactly what this movie is about. It is based on the autobiography \"Dieter Bohlen\" wrote a few years ago but isn\\'t meant to be accurate on that. The movie is filled with some sexual offensive content (at least for American standard) which is either amusing (not for the other \"actors\" of course) or dumb - it depends on your individual kind of humor or on you being a \"Bohlen\"-Fan or not. Technically speaking there isn\\'t much to criticize. Speaking of me I find this movie to be an OK-movie.'], shape=(10,), dtype=string)\n",
            "tf.Tensor([0 0 0 1 1 1 0 0 0 0], shape=(10,), dtype=int64)\n"
          ]
        }
      ]
    },
    {
      "cell_type": "markdown",
      "source": [
        "## 2. Model"
      ],
      "metadata": {
        "id": "RlM9DqvrNisB"
      }
    },
    {
      "cell_type": "code",
      "source": [
        "embedding = 'https://tfhub.dev/google/tf2-preview/gnews-swivel-20dim/1'\n",
        "hub_layer = hub.KerasLayer(embedding, input_shape=[], dtype=tf.string, trainable=True)\n",
        "hub_layer(train_example_batch[:3])"
      ],
      "metadata": {
        "colab": {
          "base_uri": "https://localhost:8080/"
        },
        "id": "Bg0x-6dkMeaC",
        "outputId": "414f6af7-303f-4598-ff44-60dc1c4522a9"
      },
      "execution_count": 17,
      "outputs": [
        {
          "output_type": "execute_result",
          "data": {
            "text/plain": [
              "<tf.Tensor: shape=(3, 20), dtype=float32, numpy=\n",
              "array([[ 1.7657859 , -3.882232  ,  3.913424  , -1.5557289 , -3.3362343 ,\n",
              "        -1.7357956 , -1.9954445 ,  1.298955  ,  5.081597  , -1.1041285 ,\n",
              "        -2.0503852 , -0.7267516 , -0.6567596 ,  0.24436145, -3.7208388 ,\n",
              "         2.0954835 ,  2.2969332 , -2.0689783 , -2.9489715 , -1.1315986 ],\n",
              "       [ 1.8804485 , -2.5852385 ,  3.4066994 ,  1.0982676 , -4.056685  ,\n",
              "        -4.891284  , -2.7855542 ,  1.3874227 ,  3.8476458 , -0.9256539 ,\n",
              "        -1.896706  ,  1.2113281 ,  0.11474716,  0.76209456, -4.8791065 ,\n",
              "         2.906149  ,  4.7087674 , -2.3652055 , -3.5015903 , -1.6390051 ],\n",
              "       [ 0.71152216, -0.63532174,  1.7385626 , -1.1168287 , -0.54515934,\n",
              "        -1.1808155 ,  0.09504453,  1.4653089 ,  0.66059506,  0.79308075,\n",
              "        -2.2268343 ,  0.07446616, -1.4075902 , -0.706454  , -1.907037  ,\n",
              "         1.4419788 ,  1.9551864 , -0.42660046, -2.8022065 ,  0.43727067]],\n",
              "      dtype=float32)>"
            ]
          },
          "metadata": {},
          "execution_count": 17
        }
      ]
    },
    {
      "cell_type": "code",
      "source": [
        "model = keras.Sequential()\n",
        "\n",
        "model.add(hub_layer)\n",
        "model.add(keras.layers.Dense(16, activation = 'relu'))\n",
        "model.add(keras.layers.Dense(1, activation = 'sigmoid'))"
      ],
      "metadata": {
        "id": "ZGoySPnBO_4l"
      },
      "execution_count": 18,
      "outputs": []
    },
    {
      "cell_type": "code",
      "source": [
        "model.summary()"
      ],
      "metadata": {
        "colab": {
          "base_uri": "https://localhost:8080/"
        },
        "id": "_SRnobD9PjkC",
        "outputId": "9b94d92b-7bc6-434c-e361-75ad78a5e123"
      },
      "execution_count": 19,
      "outputs": [
        {
          "output_type": "stream",
          "name": "stdout",
          "text": [
            "Model: \"sequential\"\n",
            "_________________________________________________________________\n",
            " Layer (type)                Output Shape              Param #   \n",
            "=================================================================\n",
            " keras_layer (KerasLayer)    (None, 20)                400020    \n",
            "                                                                 \n",
            " dense (Dense)               (None, 16)                336       \n",
            "                                                                 \n",
            " dense_1 (Dense)             (None, 1)                 17        \n",
            "                                                                 \n",
            "=================================================================\n",
            "Total params: 400,373\n",
            "Trainable params: 400,373\n",
            "Non-trainable params: 0\n",
            "_________________________________________________________________\n"
          ]
        }
      ]
    },
    {
      "cell_type": "code",
      "source": [
        "model.compile(optimizer='adam',\n",
        "              loss=keras.losses.BinaryCrossentropy(from_logits=True),\n",
        "              metrics=['accuracy'])"
      ],
      "metadata": {
        "id": "6IWGoIlnPk89"
      },
      "execution_count": 20,
      "outputs": []
    },
    {
      "cell_type": "code",
      "source": [
        "history = model.fit(train_data.shuffle(10_000).batch(512),\n",
        "                    epochs=20,\n",
        "                    validation_data=val_data.batch(512))"
      ],
      "metadata": {
        "colab": {
          "base_uri": "https://localhost:8080/"
        },
        "id": "NkxDgQcbP2Sy",
        "outputId": "b5e61deb-6b78-4f8b-e59b-94d17ba626e1"
      },
      "execution_count": 21,
      "outputs": [
        {
          "output_type": "stream",
          "name": "stdout",
          "text": [
            "Epoch 1/20\n"
          ]
        },
        {
          "output_type": "stream",
          "name": "stderr",
          "text": [
            "/usr/local/lib/python3.7/dist-packages/tensorflow/python/util/dispatch.py:1082: UserWarning: \"`binary_crossentropy` received `from_logits=True`, but the `output` argument was produced by a sigmoid or softmax activation and thus does not represent logits. Was this intended?\"\n",
            "  return dispatch_target(*args, **kwargs)\n"
          ]
        },
        {
          "output_type": "stream",
          "name": "stdout",
          "text": [
            "30/30 [==============================] - 5s 51ms/step - loss: 0.9450 - accuracy: 0.4763 - val_loss: 0.7530 - val_accuracy: 0.5237\n",
            "Epoch 2/20\n",
            "30/30 [==============================] - 2s 48ms/step - loss: 0.6925 - accuracy: 0.5765 - val_loss: 0.6317 - val_accuracy: 0.6473\n",
            "Epoch 3/20\n",
            "30/30 [==============================] - 2s 46ms/step - loss: 0.6009 - accuracy: 0.6796 - val_loss: 0.5778 - val_accuracy: 0.7062\n",
            "Epoch 4/20\n",
            "30/30 [==============================] - 2s 47ms/step - loss: 0.5508 - accuracy: 0.7315 - val_loss: 0.5401 - val_accuracy: 0.7396\n",
            "Epoch 5/20\n",
            "30/30 [==============================] - 2s 48ms/step - loss: 0.5135 - accuracy: 0.7610 - val_loss: 0.5094 - val_accuracy: 0.7605\n",
            "Epoch 6/20\n",
            "30/30 [==============================] - 2s 48ms/step - loss: 0.4796 - accuracy: 0.7869 - val_loss: 0.4818 - val_accuracy: 0.7814\n",
            "Epoch 7/20\n",
            "30/30 [==============================] - 2s 46ms/step - loss: 0.4478 - accuracy: 0.8072 - val_loss: 0.4548 - val_accuracy: 0.7981\n",
            "Epoch 8/20\n",
            "30/30 [==============================] - 2s 47ms/step - loss: 0.4152 - accuracy: 0.8251 - val_loss: 0.4292 - val_accuracy: 0.8148\n",
            "Epoch 9/20\n",
            "30/30 [==============================] - 2s 48ms/step - loss: 0.3821 - accuracy: 0.8437 - val_loss: 0.4034 - val_accuracy: 0.8294\n",
            "Epoch 10/20\n",
            "30/30 [==============================] - 2s 46ms/step - loss: 0.3515 - accuracy: 0.8590 - val_loss: 0.3818 - val_accuracy: 0.8402\n",
            "Epoch 11/20\n",
            "30/30 [==============================] - 2s 48ms/step - loss: 0.3232 - accuracy: 0.8743 - val_loss: 0.3636 - val_accuracy: 0.8502\n",
            "Epoch 12/20\n",
            "30/30 [==============================] - 2s 47ms/step - loss: 0.2993 - accuracy: 0.8862 - val_loss: 0.3503 - val_accuracy: 0.8535\n",
            "Epoch 13/20\n",
            "30/30 [==============================] - 2s 47ms/step - loss: 0.2775 - accuracy: 0.8969 - val_loss: 0.3385 - val_accuracy: 0.8593\n",
            "Epoch 14/20\n",
            "30/30 [==============================] - 2s 46ms/step - loss: 0.2590 - accuracy: 0.9051 - val_loss: 0.3277 - val_accuracy: 0.8638\n",
            "Epoch 15/20\n",
            "30/30 [==============================] - 2s 47ms/step - loss: 0.2412 - accuracy: 0.9127 - val_loss: 0.3203 - val_accuracy: 0.8656\n",
            "Epoch 16/20\n",
            "30/30 [==============================] - 2s 46ms/step - loss: 0.2258 - accuracy: 0.9205 - val_loss: 0.3145 - val_accuracy: 0.8688\n",
            "Epoch 17/20\n",
            "30/30 [==============================] - 2s 47ms/step - loss: 0.2122 - accuracy: 0.9261 - val_loss: 0.3096 - val_accuracy: 0.8702\n",
            "Epoch 18/20\n",
            "30/30 [==============================] - 2s 47ms/step - loss: 0.1992 - accuracy: 0.9322 - val_loss: 0.3059 - val_accuracy: 0.8718\n",
            "Epoch 19/20\n",
            "30/30 [==============================] - 2s 47ms/step - loss: 0.1875 - accuracy: 0.9361 - val_loss: 0.3030 - val_accuracy: 0.8723\n",
            "Epoch 20/20\n",
            "30/30 [==============================] - 2s 46ms/step - loss: 0.1759 - accuracy: 0.9413 - val_loss: 0.3020 - val_accuracy: 0.8721\n"
          ]
        }
      ]
    },
    {
      "cell_type": "code",
      "source": [
        "results = model.evaluate(test_data.batch(512))"
      ],
      "metadata": {
        "colab": {
          "base_uri": "https://localhost:8080/"
        },
        "id": "M9pJ5BZ7QkrO",
        "outputId": "0dc0b0db-6078-4fe9-e61b-650b569eb8e6"
      },
      "execution_count": 35,
      "outputs": [
        {
          "output_type": "stream",
          "name": "stdout",
          "text": [
            "49/49 [==============================] - 2s 39ms/step - loss: 0.3166 - accuracy: 0.8658\n"
          ]
        }
      ]
    },
    {
      "cell_type": "code",
      "source": [
        "for metrics, value in zip(model.metrics_names, results):\n",
        "  print('Metrics: %s / Value: %.3f' % (metrics, value))"
      ],
      "metadata": {
        "colab": {
          "base_uri": "https://localhost:8080/"
        },
        "id": "6_Dbt4EsQldg",
        "outputId": "db8075bb-9280-4ea2-efbe-123a4ddbf66c"
      },
      "execution_count": 39,
      "outputs": [
        {
          "output_type": "stream",
          "name": "stdout",
          "text": [
            "Metrics: loss / Value: 0.317\n",
            "Metrics: accuracy / Value: 0.866\n"
          ]
        }
      ]
    },
    {
      "cell_type": "code",
      "source": [
        ""
      ],
      "metadata": {
        "id": "iuntjHl4SHQW"
      },
      "execution_count": null,
      "outputs": []
    }
  ]
}